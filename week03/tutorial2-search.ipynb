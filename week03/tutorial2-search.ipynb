{
  "cells": [
    {
      "cell_type": "markdown",
      "metadata": {
        "colab_type": "text",
        "id": "JrxHLl4sldOE"
      },
      "source": [
        "<a href=\"https://colab.research.google.com/github/abdn-cs3033-ai/practicals/blob/main/week03/tutorial2-search.ipynb\" target=\"_parent\"><img src=\"https://colab.research.google.com/assets/colab-badge.svg\" alt=\"Open In Colab\"/></a>"
      ]
    },
    {
      "cell_type": "markdown",
      "metadata": {
        "colab_type": "text",
        "id": "ofsaXTxTCaGl"
      },
      "source": [
        "# CS3033: Artificial Intelligence\n",
        "\n",
        "## Tutorial 02: Search Algorithms\n",
        "\n",
        "<h4>Prof. Felipe Meneguzzi</h4>"
      ]
    },
    {
      "cell_type": "markdown",
      "metadata": {
        "colab_type": "text",
        "id": "SyQPFHd2bHs4"
      },
      "source": [
        "In order to run this tutorial, you need to download the auxiliary files from Github into your notebook, which we do with Jupyter's shell commands (if you downloaded the entire repo, the code below is not necessary)."
      ]
    },
    {
      "cell_type": "code",
      "execution_count": 5,
      "metadata": {
        "colab": {},
        "colab_type": "code",
        "id": "Lu7IHnRVbJKv"
      },
      "outputs": [
        {
          "name": "stdout",
          "output_type": "stream",
          "text": [
            "Not in colab\n"
          ]
        }
      ],
      "source": [
        "try:\n",
        "    import google.colab\n",
        "    print(\"We are in Google colab, we need to clone the repo\")\n",
        "    !git clone https://github.com/abdn-cs3033-ai/practicals.git\n",
        "    %cd practicals/week03\n",
        "    %pip install -r requirements.txt\n",
        "except:\n",
        "    print(\"Not in colab\")"
      ]
    },
    {
      "cell_type": "markdown",
      "metadata": {
        "colab_type": "text",
        "id": "CX6SUfIICaGm"
      },
      "source": [
        "## Navigation domain\n",
        "\n",
        "The problem we want to address in this domain is navigation in a grid-like environment. The dynamics of this domain is in ```player.py```, and we encode the maps as text files in ```maps/*.txt```.\n",
        "Below we show how to display an 'easy' map, where *S* denotes the starting tile and the circle denotes the goal tile. \n",
        "\n",
        "Maps are [standard text files](maps/easy.txt) where specific characters represent obstacles (`1`), empty spaces (`0`), and the goal (`2`). The first two lines of the text file encode the coordinates of the starting point. We already provide a standardised interface for maps in the Map class within [`common.py`](common.py). In that class, the key method you will use to generate successors to the current position you are search is `successors`."
      ]
    },
    {
      "cell_type": "code",
      "execution_count": 6,
      "metadata": {
        "colab": {
          "base_uri": "https://localhost:8080/",
          "height": 214
        },
        "colab_type": "code",
        "id": "9IOA3IbAD8XJ",
        "outputId": "cf92eaaa-ab0a-4628-a2f0-a462c3e7aae2"
      },
      "outputs": [
        {
          "data": {
            "text/html": [
              "<table style=\"font-size:300%;border: thick solid;\"><tr><td>&#x25FE;</td><td>&#x25FE;</td><td>&#x25FE;</td><td>&#x25FE;</td><td>&#x25FE;</td><td>&#x25FE;</td><td>&#x25FE;</td><td>&#x25FE;</td><td>&#x25FE;</td><td>&#x25FE;</td></tr><tr><td>&#x25FE;</td><td>&#x25FE;</td><td>&#x25FE;</td><td>&#x25FE;</td><td></td><td>&#x25FE;</td><td>&#x25FE;</td><td>&#x25FE;</td><td>&#x25FE;</td><td>&#x25FE;</td></tr><tr><td>&#x25FE;</td><td>&#x25FE;</td><td>&#x25FE;</td><td>&#x25FE;</td><td></td><td>&#x25FE;</td><td>&#x25FE;</td><td>&#x25FE;</td><td>&#x25FE;</td><td>&#x25FE;</td></tr><tr><td>&#x25FE;</td><td>&#x25FE;</td><td>&#x25FE;</td><td>&#x25FE;</td><td></td><td>&#x25FE;</td><td>&#x25FE;</td><td>&#x25FE;</td><td>&#x25FE;</td><td>&#x25FE;</td></tr><tr><td>&#x25FE;</td><td>&#x25FE;</td><td></td><td></td><td></td><td></td><td></td><td></td><td>S</td><td>&#x25FE;</td></tr><tr><td>&#x25FE;</td><td>&#x25FE;</td><td></td><td>&#x25FE;</td><td></td><td>&#x25FE;</td><td>&#x25FE;</td><td>&#x25FE;</td><td>&#x25FE;</td><td>&#x25FE;</td></tr><tr><td>&#x25FE;</td><td>&#x25FE;</td><td></td><td>&#x25FE;</td><td></td><td>&#x25FE;</td><td>&#x25FE;</td><td>&#x25FE;</td><td>&#x25FE;</td><td>&#x25FE;</td></tr><tr><td>&#x25FE;</td><td>&#x25FE;</td><td>&#x25CE;</td><td>&#x25FE;</td><td>&#x25FE;</td><td>&#x25FE;</td><td>&#x25FE;</td><td>&#x25FE;</td><td>&#x25FE;</td><td>&#x25FE;</td></tr><tr><td>&#x25FE;</td><td>&#x25FE;</td><td>&#x25FE;</td><td>&#x25FE;</td><td>&#x25FE;</td><td>&#x25FE;</td><td>&#x25FE;</td><td>&#x25FE;</td><td>&#x25FE;</td><td>&#x25FE;</td></tr><tr><td>&#x25FE;</td><td>&#x25FE;</td><td>&#x25FE;</td><td>&#x25FE;</td><td>&#x25FE;</td><td>&#x25FE;</td><td>&#x25FE;</td><td>&#x25FE;</td><td>&#x25FE;</td><td>&#x25FE;</td></tr></tr></table>"
            ],
            "text/plain": [
              "<IPython.core.display.HTML object>"
            ]
          },
          "metadata": {},
          "output_type": "display_data"
        }
      ],
      "source": [
        "from IPython.display import HTML, display\n",
        "import common\n",
        "from common import Point, Map, read_map, TILE_CLEAR, TILE_CLOSED, TILE_GOAL\n",
        "\n",
        "def display_map(map: Map):\n",
        "    map_html='<table style=\"font-size:300%;border: thick solid;\">'\n",
        "    for i in range(map.height):\n",
        "        map_html+='<tr>'\n",
        "        for j in range(map.width):\n",
        "            map_html+='<td>'\n",
        "            if map.data[j][i]==TILE_CLOSED:\n",
        "                map_html+='&#x25FE;'\n",
        "            elif map.data[j][i]==TILE_GOAL:\n",
        "                map_html+='&#x25CE;'\n",
        "            elif i==map.start[0] and j==map.start[1]:\n",
        "                map_html+='S'\n",
        "            map_html+='</td>'\n",
        "        map_html+='</tr>'\n",
        "    map_html+='</tr></table>'\n",
        "\n",
        "    display(HTML(map_html))\n",
        "\n",
        "map = read_map('easy.txt')\n",
        "display_map(map)"
      ]
    },
    {
      "cell_type": "markdown",
      "metadata": {
        "colab_type": "text",
        "id": "t577T6hzCaGn"
      },
      "source": [
        "# Overview\n",
        "\n",
        "For this ungraded tutorial, you will implement the $A^{*}$ heuristic search algorithm to solve instances of the navigation problem. Given a board state, find a combination of moves that leads to the final state. As an informed search method, $A^{*}$, relies on a heuristic distance function in order to efficiently prune the state space and speed up the search tree expansion towards the solution. In class, we saw two possible heuristics that can be applied to this problem, but in this assignment, we will focus on the Manhattan Distance Heuristic. This heuristic consists of distance in orthogonal movements between the block and its desired destination. \n",
        "\n",
        "**Note:** Do not share the code from your practical to other colleagues (or post it on the internet), as this code will be useful for the programming assignment."
      ]
    },
    {
      "cell_type": "markdown",
      "metadata": {
        "colab_type": "text",
        "id": "wrNWC-onCaGo"
      },
      "source": [
        "## Implementation\n",
        "\n",
        "You need to implement only the API below, below. However, you may create individual classes to represent elements in the state space as well as nodes in the search tree. Alternatively, you can implement most of the internals using [Python tuples](https://docs.python.org/3/tutorial/datastructures.html#tuples-and-sequences). We note that the API shown below is deliberately simplified to give students the maximum freedom to develop their own internal APIs and minimize coincidental similarities in implementation. \n",
        "\n",
        "Get familiar with Python's [Priority Queue](https://docs.python.org/3/library/queue.html#queue.PriorityQueue), since this is the data structure you need to implement the frontiers. You are welcome to implement your own priority queue for the practical."
      ]
    },
    {
      "cell_type": "code",
      "execution_count": 7,
      "metadata": {
        "colab": {},
        "colab_type": "code",
        "id": "0riypcd1CaGp"
      },
      "outputs": [],
      "source": [
        "from queue import PriorityQueue\n",
        "from common import Point, Map, read_map, direction, DEFAULT_MAP, MOVE_DOWN, MOVE_LEFT, MOVE_RIGHT, MOVE_UP\n",
        "\n",
        "class PathFinder_A_Star:\n",
        "    def __init__(self):\n",
        "        # TODO initialize your attributes here if needed\n",
        "        pass\n",
        "    \n",
        "    def heuristic(self, p1: Point, p2: Point):\n",
        "        # TODO heuristic function\n",
        "        return 0\n",
        "    \n",
        "    def solve(self, map: Map):\n",
        "        # TODO returns a list of movements (may be empty)\n",
        "        # if plan found, otherwise returns None\n",
        "        return None\n",
        "\n",
        "    def get_solvable(self, map: Map):\n",
        "        # TODO returns True if plan found,\n",
        "        # otherwise returns False\n",
        "        return False\n",
        "    \n",
        "    def get_max_tree_height(self, map: Map):\n",
        "        # TODO returns max tree height if plan found,\n",
        "        # otherwise returns None\n",
        "        return None\n",
        "\n",
        "    def get_min_moves(self, map: Map):\n",
        "        # TODO returns size of minimal plan to reach goal if plan found,\n",
        "        # otherwise returns None\n",
        "        return None"
      ]
    },
    {
      "cell_type": "markdown",
      "metadata": {
        "colab_type": "text",
        "id": "Q8Yva4ulCaGu"
      },
      "source": [
        "## Code-Specific Advice\n",
        "\n",
        "- In ```common.py```, you can change the current map modifying the ```DEFAULT_MAP``` constant;\n",
        "<!-- - You can also change the block's movement speed modifying the ```MOVE_SPEED``` constant in the same file; -->\n",
        "- All classes and methods which you must complete yourself are marked with the ```TODO``` keyword;"
      ]
    },
    {
      "cell_type": "markdown",
      "metadata": {
        "colab_type": "text",
        "id": "_li7vuoZCaGv"
      },
      "source": [
        "## Testing\n",
        "\n",
        "You can automatically test your solution code with the unit tests below."
      ]
    },
    {
      "cell_type": "code",
      "execution_count": 8,
      "metadata": {
        "colab": {
          "base_uri": "https://localhost:8080/",
          "height": 629
        },
        "colab_type": "code",
        "id": "aR3m3zPQCaGw",
        "outputId": "42ba9770-a287-40a3-d1d8-162325e964dd"
      },
      "outputs": [
        {
          "name": "stderr",
          "output_type": "stream",
          "text": [
            "............."
          ]
        },
        {
          "name": "stdout",
          "output_type": "stream",
          "text": [
            "max_tree_height failed! pathfinder.get_max_tree_height(map) is not equal to height\n",
            "\n",
            "min_moves failed! pathfinder.get_min_moves(map) is not equal to len(moves)\n",
            "\n",
            "plan_match failed! plan is not equal to moves\n",
            "\n",
            "solvable failed! pathfinder.get_solvable(map) is not equal to expected\n",
            "\n",
            "test_heuristic failed! pathfinder.heuristic(p1, p2) is not equal to 1\n",
            "\n",
            "test_heuristic failed! pathfinder.heuristic(p1, p2) is not equal to 2\n",
            "\n",
            "test_heuristic failed! pathfinder.heuristic(p1, p2) is not equal to 19\n",
            "\n",
            "max_tree_height failed! pathfinder.get_max_tree_height(map) is not equal to height\n",
            "\n",
            "min_moves failed! pathfinder.get_min_moves(map) is not equal to len(moves)\n",
            "\n",
            "plan_match failed! plan is not equal to moves\n",
            "\n",
            "solvable failed! pathfinder.get_solvable(map) is not equal to expected\n",
            "\n",
            "max_tree_height failed! pathfinder.get_max_tree_height(map) is not equal to height\n",
            "\n",
            "min_moves failed! pathfinder.get_min_moves(map) is not equal to len(moves)\n",
            "\n",
            "plan_match failed! plan is not equal to moves\n",
            "\n",
            "solvable failed! pathfinder.get_solvable(map) is not equal to expected\n",
            "\n",
            "  Grade:  3.0  of  3.0\n"
          ]
        },
        {
          "name": "stderr",
          "output_type": "stream",
          "text": [
            "\n",
            "----------------------------------------------------------------------\n",
            "Ran 13 tests in 0.009s\n",
            "\n",
            "OK\n"
          ]
        }
      ],
      "source": [
        "import unittest\n",
        "import sys\n",
        "from common import *\n",
        "\n",
        "try:\n",
        "    from timeout_decorator import timeout\n",
        "except:\n",
        "    print (\"\"\"Oops! It looks like you don\\'t have timeout-decorator installed. Please do so using the following command:\n",
        "        pip install timeout-decorator\"\"\")\n",
        "    sys.exit(0)\n",
        "\n",
        "# Map definitions\n",
        "TRIVIAL = \"trivial.txt\"\n",
        "TRIVIAL_SOLUTION = []\n",
        "TRIVIAL_MAX_TREE_HEIGHT = 0\n",
        "TRIVIAL_GRADE = 0.25\n",
        "\n",
        "EASY = \"easy.txt\"\n",
        "EASY_SOLUTION = [\n",
        "    MOVE_UP, MOVE_UP, MOVE_UP, MOVE_UP, MOVE_UP, MOVE_UP,\n",
        "    MOVE_RIGHT, MOVE_RIGHT, MOVE_RIGHT]\n",
        "EASY_MAX_TREE_HEIGHT = 9 # ToDo find max tree height correct value\n",
        "EASY_GRADE = 0.25\n",
        "\n",
        "MEDIUM = \"medium.txt\"\n",
        "MEDIUM_SOLUTION = [\n",
        "    MOVE_DOWN, MOVE_DOWN, MOVE_DOWN, MOVE_DOWN, MOVE_DOWN, MOVE_DOWN, MOVE_DOWN,\n",
        "    MOVE_RIGHT, MOVE_RIGHT, MOVE_RIGHT, MOVE_RIGHT, MOVE_RIGHT,\n",
        "    MOVE_UP, MOVE_UP, MOVE_UP,\n",
        "    MOVE_RIGHT, MOVE_RIGHT, MOVE_RIGHT,\n",
        "    MOVE_UP, MOVE_UP,\n",
        "    MOVE_LEFT, MOVE_LEFT, MOVE_LEFT,\n",
        "    MOVE_UP, MOVE_UP,\n",
        "    MOVE_LEFT, MOVE_LEFT, MOVE_LEFT]\n",
        "MEDIUM_MAX_TREE_HEIGHT = 28 # ToDo find max tree height correct value\n",
        "MEDIUM_GRADE = 0.25\n",
        "\n",
        "\n",
        "# ==========================================\n",
        "# Test A*\n",
        "# ==========================================\n",
        "\n",
        "class Test_A_Star(unittest.TestCase):\n",
        "\n",
        "    # ------------------------------------------\n",
        "    # Setup\n",
        "    # ------------------------------------------\n",
        "\n",
        "    @classmethod\n",
        "    def setUpClass(cls):\n",
        "        cls.grade = 0.0\n",
        "        cls.total = 0.0\n",
        "\n",
        "    @classmethod\n",
        "    def tearDownClass(cls):\n",
        "        print (\"  Grade: \", cls.grade, \" of \", cls.total)\n",
        "\n",
        "    # ------------------------------------------\n",
        "    # Common tests\n",
        "    # ------------------------------------------\n",
        "\n",
        "    def solvable(self, map_name, expected):\n",
        "        map = read_map(map_name)\n",
        "        pathfinder = PathFinder_A_Star()\n",
        "        pathfinder.solve(map)\n",
        "        #self.assertEqual(pathfinder.get_solvable(map), expected)\n",
        "        var1 = pathfinder.get_solvable(map)\n",
        "        var2 = expected\n",
        "        if var1 != var2:\n",
        "            print (\"solvable failed! pathfinder.get_solvable(map) is not equal to expected\\n\")\n",
        "\n",
        "    def plan_match(self, map_name, moves):\n",
        "        plan = PathFinder_A_Star().solve(read_map(map_name))\n",
        "        #self.assertEqual(plan, moves)\n",
        "        var1 = plan\n",
        "        var2 = moves\n",
        "        if var1 != var2:\n",
        "            print (\"plan_match failed! plan is not equal to moves\\n\")\n",
        "\n",
        "    def max_tree_height(self, map_name, height):\n",
        "        map = read_map(map_name)\n",
        "        pathfinder = PathFinder_A_Star()\n",
        "        plan = pathfinder.solve(map)\n",
        "        #self.assertEqual(pathfinder.get_max_tree_height(map), height)\n",
        "        var1 = pathfinder.get_max_tree_height(map)\n",
        "        var2 = height\n",
        "        if var1 != var2:\n",
        "            print (\"max_tree_height failed! pathfinder.get_max_tree_height(map) is not equal to height\\n\")\n",
        "\n",
        "    def min_moves(self, map_name, moves):\n",
        "        map = read_map(map_name)\n",
        "        pathfinder = PathFinder_A_Star()\n",
        "        plan = pathfinder.solve(map)\n",
        "        if moves != None:\n",
        "            #self.assertEqual(pathfinder.get_min_moves(map), len(moves))\n",
        "            var1 = pathfinder.get_min_moves(map)\n",
        "            var2 = len(moves)\n",
        "            if var1 != var2:\n",
        "                print (\"min_moves failed! pathfinder.get_min_moves(map) is not equal to len(moves)\\n\")\n",
        "\n",
        "        else:\n",
        "            #self.assertEqual(pathfinder.get_min_moves(map), moves)\n",
        "            var1 = pathfinder.get_min_moves(map)\n",
        "            var2 = moves\n",
        "            if var1 != var2:\n",
        "                print (\"min_moves failed! pathfinder.get_min_moves(map) is not equal to moves\\n\")\n",
        "\n",
        "\n",
        "    # =============\n",
        "    # = Heuristic =\n",
        "    # =============\n",
        "    \n",
        "    def test_heuristic(self):\n",
        "        pathfinder = PathFinder_A_Star()\n",
        "        p1 = Point(1, 2)\n",
        "        p2 = Point(1, 3)\n",
        "        #self.assertEqual(pathfinder.heuristic(p1, p2),1)\n",
        "        var1 = pathfinder.heuristic(p1, p2)\n",
        "        var2 = 1\n",
        "        if var1 != var2:\n",
        "            print (\"test_heuristic failed! pathfinder.heuristic(p1, p2) is not equal to 1\\n\")\n",
        "        \n",
        "        p1 = Point(2, 2)\n",
        "        p2 = Point(1, 3)\n",
        "        #self.assertEqual(pathfinder.heuristic(p1, p2),2)\n",
        "        var1 = pathfinder.heuristic(p1, p2)\n",
        "        var2 = 2\n",
        "        if var1 != var2:\n",
        "            print (\"test_heuristic failed! pathfinder.heuristic(p1, p2) is not equal to 2\\n\")\n",
        "            \n",
        "        p1 = Point(20, 2)\n",
        "        p2 = Point(1, 2)\n",
        "        #self.assertEqual(pathfinder.heuristic(p1, p2),19)\n",
        "        var1 = pathfinder.heuristic(p1, p2)\n",
        "        var2 = 19\n",
        "        if var1 != var2:\n",
        "            print (\"test_heuristic failed! pathfinder.heuristic(p1, p2) is not equal to 19\\n\")\n",
        "\n",
        "    # ------------------------------------------\n",
        "    # Trivial\n",
        "    # ------------------------------------------\n",
        "    @timeout(15)\n",
        "    def test_trivial_solvable(self):\n",
        "        self.__class__.total += TRIVIAL_GRADE\n",
        "        self.solvable(TRIVIAL, True)\n",
        "        self.__class__.grade += TRIVIAL_GRADE\n",
        "\n",
        "    @timeout(15)\n",
        "    def test_trivial_plan_match(self):\n",
        "        self.__class__.total += TRIVIAL_GRADE\n",
        "        self.plan_match(TRIVIAL, TRIVIAL_SOLUTION)\n",
        "        self.__class__.grade += TRIVIAL_GRADE\n",
        "\n",
        "    @timeout(15)\n",
        "    def test_trivial_max_tree_height(self):\n",
        "        self.__class__.total += TRIVIAL_GRADE\n",
        "        self.max_tree_height(TRIVIAL, TRIVIAL_MAX_TREE_HEIGHT)\n",
        "        self.__class__.grade += TRIVIAL_GRADE\n",
        "\n",
        "    @timeout(15)\n",
        "    def test_trivial_min_moves(self):\n",
        "        self.__class__.total += TRIVIAL_GRADE\n",
        "        self.min_moves(TRIVIAL, TRIVIAL_SOLUTION)\n",
        "        self.__class__.grade += TRIVIAL_GRADE\n",
        "\n",
        "    # ------------------------------------------\n",
        "    # Easy\n",
        "    # ------------------------------------------\n",
        "    @timeout(15)\n",
        "    def test_easy_solvable(self):\n",
        "        self.__class__.total += EASY_GRADE\n",
        "        self.solvable(EASY, True)\n",
        "        self.__class__.grade += EASY_GRADE\n",
        "\n",
        "    @timeout(15)\n",
        "    def test_easy_plan_match(self):\n",
        "        self.__class__.total += EASY_GRADE\n",
        "        self.plan_match(EASY, EASY_SOLUTION)\n",
        "        self.__class__.grade += EASY_GRADE\n",
        "\n",
        "    @timeout(15)\n",
        "    def test_easy_max_tree_height(self):\n",
        "        self.__class__.total += EASY_GRADE\n",
        "        self.max_tree_height(EASY, EASY_MAX_TREE_HEIGHT)\n",
        "        self.__class__.grade += EASY_GRADE\n",
        "\n",
        "    @timeout(15)\n",
        "    def test_easy_min_moves(self):\n",
        "        self.__class__.total += EASY_GRADE\n",
        "        self.min_moves(EASY, EASY_SOLUTION)\n",
        "        self.__class__.grade += EASY_GRADE\n",
        "\n",
        "    # ------------------------------------------\n",
        "    # Medium\n",
        "    # ------------------------------------------\n",
        "    @timeout(15)\n",
        "    def test_medium_solvable(self):\n",
        "        self.__class__.total += MEDIUM_GRADE\n",
        "        self.solvable(MEDIUM, True)\n",
        "        self.__class__.grade += MEDIUM_GRADE\n",
        "\n",
        "    @timeout(15)\n",
        "    def test_medium_plan_match(self):\n",
        "        self.__class__.total += MEDIUM_GRADE\n",
        "        self.plan_match(MEDIUM, MEDIUM_SOLUTION)\n",
        "        self.__class__.grade += MEDIUM_GRADE\n",
        "\n",
        "    @timeout(15)\n",
        "    def test_medium_max_tree_height(self):\n",
        "        self.__class__.total += MEDIUM_GRADE\n",
        "        self.max_tree_height(MEDIUM, MEDIUM_MAX_TREE_HEIGHT)\n",
        "        self.__class__.grade += MEDIUM_GRADE\n",
        "\n",
        "    @timeout(15)\n",
        "    def test_medium_min_moves(self):\n",
        "        self.__class__.total += MEDIUM_GRADE\n",
        "        self.min_moves(MEDIUM, MEDIUM_SOLUTION)\n",
        "        self.__class__.grade += MEDIUM_GRADE\n",
        "\n",
        "        \n",
        "if __name__ == '__main__':\n",
        "    unittest.main(argv=['first-arg-is-ignored'], exit=False)\n",
        "    #unittest.main()\n",
        "\n"
      ]
    },
    {
      "cell_type": "code",
      "execution_count": null,
      "metadata": {
        "colab": {},
        "colab_type": "code",
        "id": "ZaN4aVYndzHe"
      },
      "outputs": [],
      "source": []
    }
  ],
  "metadata": {
    "colab": {
      "name": "search-sliding-blocks.ipynb",
      "provenance": []
    },
    "kernelspec": {
      "display_name": "Python 3.7.13 ('base')",
      "language": "python",
      "name": "python3"
    },
    "language_info": {
      "codemirror_mode": {
        "name": "ipython",
        "version": 3
      },
      "file_extension": ".py",
      "mimetype": "text/x-python",
      "name": "python",
      "nbconvert_exporter": "python",
      "pygments_lexer": "ipython3",
      "version": "3.9.6"
    },
    "vscode": {
      "interpreter": {
        "hash": "a04fbcb04a11c3a691703ca23ae4a78f9f717b538476169d44c620972eb30c1e"
      }
    }
  },
  "nbformat": 4,
  "nbformat_minor": 0
}
